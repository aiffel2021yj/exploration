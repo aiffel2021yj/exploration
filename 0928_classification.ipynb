{
 "cells": [
  {
   "cell_type": "code",
   "execution_count": 46,
   "id": "corporate-situation",
   "metadata": {},
   "outputs": [],
   "source": [
    "import pandas as pd\n",
    "from sklearn.datasets import load_digits, load_wine, load_breast_cancer\n",
    "\n",
    "from sklearn.model_selection import train_test_split, GridSearchCV, cross_validate, cross_val_score\n",
    "from sklearn.tree import DecisionTreeClassifier\n",
    "from sklearn.ensemble import RandomForestClassifier\n",
    "from sklearn.linear_model import SGDClassifier\n",
    "from sklearn.svm import SVC\n",
    "from sklearn.linear_model import LogisticRegression\n",
    "from sklearn.preprocessing import StandardScaler\n",
    "from sklearn.pipeline import make_pipeline\n",
    "from sklearn.metrics import classification_report, confusion_matrix, accuracy_score, roc_auc_score, mean_squared_error\n",
    "\n",
    "%matplotlib inline\n",
    "import numpy as np\n",
    "import matplotlib.pyplot as plt\n",
    "import seaborn as sb"
   ]
  },
  {
   "cell_type": "code",
   "execution_count": 2,
   "id": "greater-robert",
   "metadata": {},
   "outputs": [],
   "source": [
    "np.random.seed(40)"
   ]
  },
  {
   "cell_type": "markdown",
   "id": "progressive-personal",
   "metadata": {},
   "source": [
    "## Digits"
   ]
  },
  {
   "cell_type": "code",
   "execution_count": 3,
   "id": "structured-stand",
   "metadata": {},
   "outputs": [
    {
     "name": "stdout",
     "output_type": "stream",
     "text": [
      "['DESCR', 'data', 'feature_names', 'frame', 'images', 'target', 'target_names']\n"
     ]
    }
   ],
   "source": [
    "digits = load_digits()\n",
    "digits_data = digits.data\n",
    "\n",
    "print(dir(digits))"
   ]
  },
  {
   "cell_type": "markdown",
   "id": "breeding-positive",
   "metadata": {},
   "source": [
    "#### 데이터 이해하기\n",
    "* Feature Data 지정하기: feature_names를 보았을 때 픽셀 값 (8x8)이므로 주어진 것 사용했음\n",
    "* Label Data 지정하기: v\n",
    "* Target Names 출력해 보기: 0 ~ 9 (숫자) \n",
    "* 데이터 Describe 해 보기: v"
   ]
  },
  {
   "cell_type": "code",
   "execution_count": 4,
   "id": "catholic-consent",
   "metadata": {},
   "outputs": [
    {
     "name": "stdout",
     "output_type": "stream",
     "text": [
      "['pixel_0_0', 'pixel_0_1', 'pixel_0_2', 'pixel_0_3', 'pixel_0_4', 'pixel_0_5', 'pixel_0_6', 'pixel_0_7', 'pixel_1_0', 'pixel_1_1', 'pixel_1_2', 'pixel_1_3', 'pixel_1_4', 'pixel_1_5', 'pixel_1_6', 'pixel_1_7', 'pixel_2_0', 'pixel_2_1', 'pixel_2_2', 'pixel_2_3', 'pixel_2_4', 'pixel_2_5', 'pixel_2_6', 'pixel_2_7', 'pixel_3_0', 'pixel_3_1', 'pixel_3_2', 'pixel_3_3', 'pixel_3_4', 'pixel_3_5', 'pixel_3_6', 'pixel_3_7', 'pixel_4_0', 'pixel_4_1', 'pixel_4_2', 'pixel_4_3', 'pixel_4_4', 'pixel_4_5', 'pixel_4_6', 'pixel_4_7', 'pixel_5_0', 'pixel_5_1', 'pixel_5_2', 'pixel_5_3', 'pixel_5_4', 'pixel_5_5', 'pixel_5_6', 'pixel_5_7', 'pixel_6_0', 'pixel_6_1', 'pixel_6_2', 'pixel_6_3', 'pixel_6_4', 'pixel_6_5', 'pixel_6_6', 'pixel_6_7', 'pixel_7_0', 'pixel_7_1', 'pixel_7_2', 'pixel_7_3', 'pixel_7_4', 'pixel_7_5', 'pixel_7_6', 'pixel_7_7']\n",
      "64\n"
     ]
    }
   ],
   "source": [
    "print(digits.feature_names)\n",
    "print(len(digits.feature_names)) # 픽셀값"
   ]
  },
  {
   "cell_type": "code",
   "execution_count": 5,
   "id": "regulation-shopper",
   "metadata": {},
   "outputs": [
    {
     "name": "stdout",
     "output_type": "stream",
     "text": [
      "(1797,)\n"
     ]
    }
   ],
   "source": [
    "digits_label = digits.target\n",
    "print(digits_label.shape)"
   ]
  },
  {
   "cell_type": "code",
   "execution_count": 6,
   "id": "secure-possession",
   "metadata": {},
   "outputs": [
    {
     "data": {
      "text/plain": [
       "array([0, 1, 2, 3, 4, 5, 6, 7, 8, 9])"
      ]
     },
     "execution_count": 6,
     "metadata": {},
     "output_type": "execute_result"
    }
   ],
   "source": [
    "digits.target_names"
   ]
  },
  {
   "cell_type": "code",
   "execution_count": 7,
   "id": "secure-issue",
   "metadata": {},
   "outputs": [
    {
     "name": "stdout",
     "output_type": "stream",
     "text": [
      ".. _digits_dataset:\n",
      "\n",
      "Optical recognition of handwritten digits dataset\n",
      "--------------------------------------------------\n",
      "\n",
      "**Data Set Characteristics:**\n",
      "\n",
      "    :Number of Instances: 5620\n",
      "    :Number of Attributes: 64\n",
      "    :Attribute Information: 8x8 image of integer pixels in the range 0..16.\n",
      "    :Missing Attribute Values: None\n",
      "    :Creator: E. Alpaydin (alpaydin '@' boun.edu.tr)\n",
      "    :Date: July; 1998\n",
      "\n",
      "This is a copy of the test set of the UCI ML hand-written digits datasets\n",
      "https://archive.ics.uci.edu/ml/datasets/Optical+Recognition+of+Handwritten+Digits\n",
      "\n",
      "The data set contains images of hand-written digits: 10 classes where\n",
      "each class refers to a digit.\n",
      "\n",
      "Preprocessing programs made available by NIST were used to extract\n",
      "normalized bitmaps of handwritten digits from a preprinted form. From a\n",
      "total of 43 people, 30 contributed to the training set and different 13\n",
      "to the test set. 32x32 bitmaps are divided into nonoverlapping blocks of\n",
      "4x4 and the number of on pixels are counted in each block. This generates\n",
      "an input matrix of 8x8 where each element is an integer in the range\n",
      "0..16. This reduces dimensionality and gives invariance to small\n",
      "distortions.\n",
      "\n",
      "For info on NIST preprocessing routines, see M. D. Garris, J. L. Blue, G.\n",
      "T. Candela, D. L. Dimmick, J. Geist, P. J. Grother, S. A. Janet, and C.\n",
      "L. Wilson, NIST Form-Based Handprint Recognition System, NISTIR 5469,\n",
      "1994.\n",
      "\n",
      ".. topic:: References\n",
      "\n",
      "  - C. Kaynak (1995) Methods of Combining Multiple Classifiers and Their\n",
      "    Applications to Handwritten Digit Recognition, MSc Thesis, Institute of\n",
      "    Graduate Studies in Science and Engineering, Bogazici University.\n",
      "  - E. Alpaydin, C. Kaynak (1998) Cascading Classifiers, Kybernetika.\n",
      "  - Ken Tang and Ponnuthurai N. Suganthan and Xi Yao and A. Kai Qin.\n",
      "    Linear dimensionalityreduction using relevance weighted LDA. School of\n",
      "    Electrical and Electronic Engineering Nanyang Technological University.\n",
      "    2005.\n",
      "  - Claudio Gentile. A New Approximate Maximal Margin Classification\n",
      "    Algorithm. NIPS. 2000.\n"
     ]
    }
   ],
   "source": [
    "print(digits.DESCR)"
   ]
  },
  {
   "cell_type": "markdown",
   "id": "operating-compact",
   "metadata": {},
   "source": [
    "#### train, test 분리"
   ]
  },
  {
   "cell_type": "code",
   "execution_count": 8,
   "id": "complex-arnold",
   "metadata": {},
   "outputs": [],
   "source": [
    "digits.X_train, digits.X_test, digits.y_train, digits.y_test = train_test_split(digits_data, \n",
    "                                                    digits_label, \n",
    "                                                    test_size=0.2, \n",
    "                                                    random_state=7)"
   ]
  },
  {
   "cell_type": "markdown",
   "id": "enhanced-cowboy",
   "metadata": {},
   "source": [
    "#### 다양한 모델로 학습시켜보기"
   ]
  },
  {
   "cell_type": "code",
   "execution_count": 9,
   "id": "advance-biography",
   "metadata": {},
   "outputs": [
    {
     "name": "stdout",
     "output_type": "stream",
     "text": [
      "The model type: DecisionTreeClassifier\n",
      "              precision    recall  f1-score   support\n",
      "\n",
      "           0       0.95      0.95      0.95        43\n",
      "           1       0.84      0.86      0.85        42\n",
      "           2       0.82      0.82      0.82        40\n",
      "           3       0.86      0.91      0.89        34\n",
      "           4       0.82      1.00      0.90        37\n",
      "           5       0.84      0.96      0.90        28\n",
      "           6       1.00      0.93      0.96        28\n",
      "           7       0.93      0.79      0.85        33\n",
      "           8       0.90      0.65      0.76        43\n",
      "           9       0.75      0.84      0.79        32\n",
      "\n",
      "    accuracy                           0.87       360\n",
      "   macro avg       0.87      0.87      0.87       360\n",
      "weighted avg       0.87      0.87      0.86       360\n",
      "\n",
      "\n",
      "\n",
      "The model type: RandomForestClassifier\n",
      "              precision    recall  f1-score   support\n",
      "\n",
      "           0       1.00      0.98      0.99        43\n",
      "           1       0.91      1.00      0.95        42\n",
      "           2       1.00      0.97      0.99        40\n",
      "           3       1.00      1.00      1.00        34\n",
      "           4       0.93      1.00      0.96        37\n",
      "           5       0.90      1.00      0.95        28\n",
      "           6       1.00      0.93      0.96        28\n",
      "           7       0.94      0.97      0.96        33\n",
      "           8       0.97      0.86      0.91        43\n",
      "           9       0.97      0.91      0.94        32\n",
      "\n",
      "    accuracy                           0.96       360\n",
      "   macro avg       0.96      0.96      0.96       360\n",
      "weighted avg       0.96      0.96      0.96       360\n",
      "\n",
      "\n",
      "\n",
      "The model type: Pipeline\n",
      "              precision    recall  f1-score   support\n",
      "\n",
      "           0       1.00      1.00      1.00        43\n",
      "           1       0.95      1.00      0.98        42\n",
      "           2       0.98      1.00      0.99        40\n",
      "           3       0.94      0.97      0.96        34\n",
      "           4       0.97      1.00      0.99        37\n",
      "           5       0.88      1.00      0.93        28\n",
      "           6       1.00      0.96      0.98        28\n",
      "           7       0.94      0.97      0.96        33\n",
      "           8       0.95      0.81      0.88        43\n",
      "           9       0.93      0.84      0.89        32\n",
      "\n",
      "    accuracy                           0.96       360\n",
      "   macro avg       0.95      0.96      0.95       360\n",
      "weighted avg       0.96      0.96      0.95       360\n",
      "\n",
      "\n",
      "\n",
      "The model type: Pipeline\n",
      "              precision    recall  f1-score   support\n",
      "\n",
      "           0       1.00      0.98      0.99        43\n",
      "           1       0.95      0.86      0.90        42\n",
      "           2       0.98      1.00      0.99        40\n",
      "           3       0.89      0.91      0.90        34\n",
      "           4       1.00      0.95      0.97        37\n",
      "           5       0.93      1.00      0.97        28\n",
      "           6       0.96      0.96      0.96        28\n",
      "           7       0.94      0.97      0.96        33\n",
      "           8       0.87      0.95      0.91        43\n",
      "           9       0.90      0.84      0.87        32\n",
      "\n",
      "    accuracy                           0.94       360\n",
      "   macro avg       0.94      0.94      0.94       360\n",
      "weighted avg       0.94      0.94      0.94       360\n",
      "\n",
      "\n",
      "\n",
      "The model type: Pipeline\n",
      "              precision    recall  f1-score   support\n",
      "\n",
      "           0       1.00      1.00      1.00        43\n",
      "           1       0.93      0.93      0.93        42\n",
      "           2       0.98      1.00      0.99        40\n",
      "           3       0.97      1.00      0.99        34\n",
      "           4       1.00      0.97      0.99        37\n",
      "           5       0.88      1.00      0.93        28\n",
      "           6       1.00      0.93      0.96        28\n",
      "           7       1.00      1.00      1.00        33\n",
      "           8       0.95      0.88      0.92        43\n",
      "           9       0.91      0.91      0.91        32\n",
      "\n",
      "    accuracy                           0.96       360\n",
      "   macro avg       0.96      0.96      0.96       360\n",
      "weighted avg       0.96      0.96      0.96       360\n",
      "\n",
      "\n",
      "\n"
     ]
    }
   ],
   "source": [
    "# first, initialize the classificators\n",
    "dt= DecisionTreeClassifier(random_state=24) # using the random state for reproducibility\n",
    "rf= RandomForestClassifier(random_state=24)\n",
    "svm = make_pipeline(StandardScaler(), SVC(kernel='linear', C=1, gamma=1)) #scale\n",
    "sgd = make_pipeline(StandardScaler(), SGDClassifier(random_state=25)) #scale\n",
    "lr = make_pipeline(StandardScaler(), LogisticRegression()) #scale \n",
    "\n",
    "# now, create a list with the objects \n",
    "models= [dt, rf, svm, sgd, lr]\n",
    "\n",
    "for model in models:\n",
    "    model.fit(digits.X_train, digits.y_train) # fit the model\n",
    "    y_pred= model.predict(digits.X_test) # then predict on the test set\n",
    "    accuracy= accuracy_score(digits.y_test, y_pred) # this gives us how often the algorithm predicted correctly\n",
    "    clf_report= classification_report(digits.y_test, y_pred) # with the report, we have a bigger picture, with precision and recall for each class\n",
    "    print(f\"The model type: {type(model).__name__}\")\n",
    "    print(clf_report)\n",
    "    print(\"\\n\")\n"
   ]
  },
  {
   "cell_type": "markdown",
   "id": "skilled-screening",
   "metadata": {},
   "source": [
    "#### 모델을 평가해보기\n",
    "\n",
    "* 모델 성능 평가 지표로 accuracy를 중점으로 보았다. false positive 나 false negative일 경우의 stake이 높지 않은 특성을 가지므로 정확히 classify한 퍼센트의 지표인 accuracy가 가장 효율적이라고 본다. \n",
    "* 그 결과 random forest와 logistic regression 모델의 accuracy가 0.96으로 다른 모델 SGD(0.95 in macro avg. and weighted avg.), SVM(0.94) 간소한 차이로 가장 높다. "
   ]
  },
  {
   "cell_type": "markdown",
   "id": "martial-anger",
   "metadata": {},
   "source": [
    "## Wine"
   ]
  },
  {
   "cell_type": "code",
   "execution_count": 10,
   "id": "possible-disco",
   "metadata": {},
   "outputs": [
    {
     "name": "stdout",
     "output_type": "stream",
     "text": [
      "['DESCR', 'data', 'feature_names', 'frame', 'target', 'target_names']\n"
     ]
    }
   ],
   "source": [
    "wine = load_wine()\n",
    "wine_data = wine.data\n",
    "\n",
    "print(dir(wine))"
   ]
  },
  {
   "cell_type": "markdown",
   "id": "varied-german",
   "metadata": {},
   "source": [
    "#### 데이터 이해하기\n",
    "* Feature Data 지정하기: flavanoids와 od280/od315_of_diluted_wines는 target과 너무 correlated되어있으므로 accuracy에 영향을 줌으로 뺌\n",
    "* Label Data 지정하기: v\n",
    "* Target Names 출력해 보기: 0,1,2 종류의 와인 \n",
    "* 데이터 Describe 해 보기: v"
   ]
  },
  {
   "cell_type": "code",
   "execution_count": 11,
   "id": "editorial-massachusetts",
   "metadata": {},
   "outputs": [],
   "source": [
    "X, y = load_wine(return_X_y=True, as_frame=True)\n",
    "\n",
    "df_wine = pd.concat([X, y], axis=1)"
   ]
  },
  {
   "cell_type": "code",
   "execution_count": 12,
   "id": "international-prime",
   "metadata": {},
   "outputs": [
    {
     "name": "stdout",
     "output_type": "stream",
     "text": [
      "(178,)\n"
     ]
    }
   ],
   "source": [
    "wine_label = wine.target \n",
    "print(wine_label.shape)"
   ]
  },
  {
   "cell_type": "markdown",
   "id": "mysterious-concern",
   "metadata": {},
   "source": [
    "* sample수가 적다"
   ]
  },
  {
   "cell_type": "code",
   "execution_count": 13,
   "id": "convinced-restaurant",
   "metadata": {},
   "outputs": [
    {
     "data": {
      "text/plain": [
       "array(['class_0', 'class_1', 'class_2'], dtype='<U7')"
      ]
     },
     "execution_count": 13,
     "metadata": {},
     "output_type": "execute_result"
    }
   ],
   "source": [
    "wine.target_names"
   ]
  },
  {
   "cell_type": "markdown",
   "id": "speaking-voice",
   "metadata": {},
   "source": [
    "##### feature selection"
   ]
  },
  {
   "cell_type": "code",
   "execution_count": 14,
   "id": "swedish-linux",
   "metadata": {},
   "outputs": [
    {
     "data": {
      "image/png": "[encoded data removed]",
      "text/plain": [
       "<Figure size 720x720 with 16 Axes>"
      ]
     },
     "metadata": {
      "needs_background": "light"
     },
     "output_type": "display_data"
    }
   ],
   "source": [
    "df_wine.hist(bins=25,figsize=(10,10))\n",
    "plt.show()"
   ]
  },
  {
   "cell_type": "code",
   "execution_count": 15,
   "id": "amino-nicholas",
   "metadata": {},
   "outputs": [
    {
     "data": {
      "text/plain": [
       "<AxesSubplot:>"
      ]
     },
     "execution_count": 15,
     "metadata": {},
     "output_type": "execute_result"
    },
    {
     "data": {
      "image/png": "[encoded data removed]",
      "text/plain": [
       "<Figure size 1368x720 with 2 Axes>"
      ]
     },
     "metadata": {},
     "output_type": "display_data"
    }
   ],
   "source": [
    "# ploting heatmap\n",
    "plt.figure(figsize=[19,10],facecolor='blue')\n",
    "sb.heatmap(df_wine.corr(),annot=True)"
   ]
  },
  {
   "cell_type": "code",
   "execution_count": 16,
   "id": "presidential-rebel",
   "metadata": {},
   "outputs": [
    {
     "name": "stdout",
     "output_type": "stream",
     "text": [
      "flavanoids\n",
      "od280/od315_of_diluted_wines\n",
      "target\n",
      "target\n",
      "target\n"
     ]
    }
   ],
   "source": [
    "for a in range(len(df_wine.corr().columns)):\n",
    "    for b in range(a):\n",
    "        if abs(df_wine.corr().iloc[a,b]) >0.7:\n",
    "            name = df_wine.corr().columns[a]\n",
    "            print(name)"
   ]
  },
  {
   "cell_type": "markdown",
   "id": "formed-colombia",
   "metadata": {},
   "source": [
    "* flavanoids와 od280/od315_of_diluted_wines는 target과 너무 correlated되어있으므로 accuracy에 영향을 줌으로 뺌"
   ]
  },
  {
   "cell_type": "code",
   "execution_count": 17,
   "id": "legal-filing",
   "metadata": {},
   "outputs": [],
   "source": [
    "df_wine=df_wine.drop(columns = ['flavanoids','od280/od315_of_diluted_wines'])\n",
    "wine_data = df_wine.to_numpy() #다시 numpyarray로 바꾸어야 함... 왜"
   ]
  },
  {
   "cell_type": "code",
   "execution_count": 18,
   "id": "royal-sympathy",
   "metadata": {},
   "outputs": [
    {
     "data": {
      "text/html": [
       "<div>\n",
       "<style scoped>\n",
       "    .dataframe tbody tr th:only-of-type {\n",
       "        vertical-align: middle;\n",
       "    }\n",
       "\n",
       "    .dataframe tbody tr th {\n",
       "        vertical-align: top;\n",
       "    }\n",
       "\n",
       "    .dataframe thead th {\n",
       "        text-align: right;\n",
       "    }\n",
       "</style>\n",
       "<table border=\"1\" class=\"dataframe\">\n",
       "  <thead>\n",
       "    <tr style=\"text-align: right;\">\n",
       "      <th></th>\n",
       "      <th>alcohol</th>\n",
       "      <th>malic_acid</th>\n",
       "      <th>ash</th>\n",
       "      <th>alcalinity_of_ash</th>\n",
       "      <th>magnesium</th>\n",
       "      <th>total_phenols</th>\n",
       "      <th>nonflavanoid_phenols</th>\n",
       "      <th>proanthocyanins</th>\n",
       "      <th>color_intensity</th>\n",
       "      <th>hue</th>\n",
       "      <th>proline</th>\n",
       "      <th>target</th>\n",
       "    </tr>\n",
       "  </thead>\n",
       "  <tbody>\n",
       "    <tr>\n",
       "      <th>0</th>\n",
       "      <td>14.23</td>\n",
       "      <td>1.71</td>\n",
       "      <td>2.43</td>\n",
       "      <td>15.6</td>\n",
       "      <td>127.0</td>\n",
       "      <td>2.80</td>\n",
       "      <td>0.28</td>\n",
       "      <td>2.29</td>\n",
       "      <td>5.64</td>\n",
       "      <td>1.04</td>\n",
       "      <td>1065.0</td>\n",
       "      <td>0</td>\n",
       "    </tr>\n",
       "    <tr>\n",
       "      <th>1</th>\n",
       "      <td>13.20</td>\n",
       "      <td>1.78</td>\n",
       "      <td>2.14</td>\n",
       "      <td>11.2</td>\n",
       "      <td>100.0</td>\n",
       "      <td>2.65</td>\n",
       "      <td>0.26</td>\n",
       "      <td>1.28</td>\n",
       "      <td>4.38</td>\n",
       "      <td>1.05</td>\n",
       "      <td>1050.0</td>\n",
       "      <td>0</td>\n",
       "    </tr>\n",
       "    <tr>\n",
       "      <th>2</th>\n",
       "      <td>13.16</td>\n",
       "      <td>2.36</td>\n",
       "      <td>2.67</td>\n",
       "      <td>18.6</td>\n",
       "      <td>101.0</td>\n",
       "      <td>2.80</td>\n",
       "      <td>0.30</td>\n",
       "      <td>2.81</td>\n",
       "      <td>5.68</td>\n",
       "      <td>1.03</td>\n",
       "      <td>1185.0</td>\n",
       "      <td>0</td>\n",
       "    </tr>\n",
       "    <tr>\n",
       "      <th>3</th>\n",
       "      <td>14.37</td>\n",
       "      <td>1.95</td>\n",
       "      <td>2.50</td>\n",
       "      <td>16.8</td>\n",
       "      <td>113.0</td>\n",
       "      <td>3.85</td>\n",
       "      <td>0.24</td>\n",
       "      <td>2.18</td>\n",
       "      <td>7.80</td>\n",
       "      <td>0.86</td>\n",
       "      <td>1480.0</td>\n",
       "      <td>0</td>\n",
       "    </tr>\n",
       "    <tr>\n",
       "      <th>4</th>\n",
       "      <td>13.24</td>\n",
       "      <td>2.59</td>\n",
       "      <td>2.87</td>\n",
       "      <td>21.0</td>\n",
       "      <td>118.0</td>\n",
       "      <td>2.80</td>\n",
       "      <td>0.39</td>\n",
       "      <td>1.82</td>\n",
       "      <td>4.32</td>\n",
       "      <td>1.04</td>\n",
       "      <td>735.0</td>\n",
       "      <td>0</td>\n",
       "    </tr>\n",
       "  </tbody>\n",
       "</table>\n",
       "</div>"
      ],
      "text/plain": [
       "   alcohol  malic_acid   ash  alcalinity_of_ash  magnesium  total_phenols  \\\n",
       "0    14.23        1.71  2.43               15.6      127.0           2.80   \n",
       "1    13.20        1.78  2.14               11.2      100.0           2.65   \n",
       "2    13.16        2.36  2.67               18.6      101.0           2.80   \n",
       "3    14.37        1.95  2.50               16.8      113.0           3.85   \n",
       "4    13.24        2.59  2.87               21.0      118.0           2.80   \n",
       "\n",
       "   nonflavanoid_phenols  proanthocyanins  color_intensity   hue  proline  \\\n",
       "0                  0.28             2.29             5.64  1.04   1065.0   \n",
       "1                  0.26             1.28             4.38  1.05   1050.0   \n",
       "2                  0.30             2.81             5.68  1.03   1185.0   \n",
       "3                  0.24             2.18             7.80  0.86   1480.0   \n",
       "4                  0.39             1.82             4.32  1.04    735.0   \n",
       "\n",
       "   target  \n",
       "0       0  \n",
       "1       0  \n",
       "2       0  \n",
       "3       0  \n",
       "4       0  "
      ]
     },
     "execution_count": 18,
     "metadata": {},
     "output_type": "execute_result"
    }
   ],
   "source": [
    "df_wine.head() #describe할 필요는 없음 위에서 봤으니까... column으로 feature selection확인"
   ]
  },
  {
   "cell_type": "markdown",
   "id": "geological-prime",
   "metadata": {},
   "source": [
    "#### test, training split"
   ]
  },
  {
   "cell_type": "code",
   "execution_count": 19,
   "id": "transsexual-hepatitis",
   "metadata": {},
   "outputs": [],
   "source": [
    "wine.X_train, wine.X_test, wine.y_train, wine.y_test = train_test_split(wine_data, wine_label, test_size=0.2, random_state=7)"
   ]
  },
  {
   "cell_type": "markdown",
   "id": "smoking-archive",
   "metadata": {},
   "source": [
    "#### 다양한 모델 학습"
   ]
  },
  {
   "cell_type": "code",
   "execution_count": 45,
   "id": "awful-craps",
   "metadata": {},
   "outputs": [
    {
     "name": "stdout",
     "output_type": "stream",
     "text": [
      "The accuracy of model DecisionTreeClassifier is 1.00\n",
      "mean squared error is :  0.0\n",
      "              precision    recall  f1-score   support\n",
      "\n",
      "           0       1.00      1.00      1.00         7\n",
      "           1       1.00      1.00      1.00        17\n",
      "           2       1.00      1.00      1.00        12\n",
      "\n",
      "    accuracy                           1.00        36\n",
      "   macro avg       1.00      1.00      1.00        36\n",
      "weighted avg       1.00      1.00      1.00        36\n",
      "\n",
      "\n",
      "\n",
      "The accuracy of model RandomForestClassifier is 1.00\n",
      "mean squared error is :  0.0\n",
      "              precision    recall  f1-score   support\n",
      "\n",
      "           0       1.00      1.00      1.00         7\n",
      "           1       1.00      1.00      1.00        17\n",
      "           2       1.00      1.00      1.00        12\n",
      "\n",
      "    accuracy                           1.00        36\n",
      "   macro avg       1.00      1.00      1.00        36\n",
      "weighted avg       1.00      1.00      1.00        36\n",
      "\n",
      "\n",
      "\n",
      "The accuracy of model Pipeline is 1.00\n",
      "mean squared error is :  0.0\n",
      "              precision    recall  f1-score   support\n",
      "\n",
      "           0       1.00      1.00      1.00         7\n",
      "           1       1.00      1.00      1.00        17\n",
      "           2       1.00      1.00      1.00        12\n",
      "\n",
      "    accuracy                           1.00        36\n",
      "   macro avg       1.00      1.00      1.00        36\n",
      "weighted avg       1.00      1.00      1.00        36\n",
      "\n",
      "\n",
      "\n",
      "The accuracy of model Pipeline is 0.97\n",
      "mean squared error is :  0.027777777777777776\n",
      "              precision    recall  f1-score   support\n",
      "\n",
      "           0       1.00      1.00      1.00         7\n",
      "           1       0.94      1.00      0.97        17\n",
      "           2       1.00      0.92      0.96        12\n",
      "\n",
      "    accuracy                           0.97        36\n",
      "   macro avg       0.98      0.97      0.98        36\n",
      "weighted avg       0.97      0.97      0.97        36\n",
      "\n",
      "\n",
      "\n",
      "The accuracy of model Pipeline is 0.97\n",
      "mean squared error is :  0.027777777777777776\n",
      "              precision    recall  f1-score   support\n",
      "\n",
      "           0       1.00      1.00      1.00         7\n",
      "           1       0.94      1.00      0.97        17\n",
      "           2       1.00      0.92      0.96        12\n",
      "\n",
      "    accuracy                           0.97        36\n",
      "   macro avg       0.98      0.97      0.98        36\n",
      "weighted avg       0.97      0.97      0.97        36\n",
      "\n",
      "\n",
      "\n"
     ]
    }
   ],
   "source": [
    "# first, initialize the classificators\n",
    "dt= DecisionTreeClassifier(random_state=24) # using the random state for reproducibility\n",
    "rf= RandomForestClassifier(random_state=24)\n",
    "svm = make_pipeline(StandardScaler(), SVC(kernel='linear', C=1, gamma=1)) #scale\n",
    "sgd = make_pipeline(StandardScaler(), SGDClassifier(random_state=25)) #scale\n",
    "lr = make_pipeline(StandardScaler(), LogisticRegression()) #scale \n",
    "# now, create a list with the objects \n",
    "models= [dt, rf, svm, sgd, lr]\n",
    "\n",
    "for model in models:\n",
    "        cross_validate(wine.X_train, wine.y_train) # fit the model\n",
    "        y_pred= model.predict(wine.X_test) # then predict on the test set\n",
    "        accuracy= accuracy_score(wine.y_test, y_pred) # this gives us how often the algorithm predicted correctly\n",
    "        rnd_MSE = mean_squared_error(wine.y_test,y_pred)\n",
    "        clf_report= classification_report(wine.y_test, y_pred) # with the report, we have a bigger picture, with precision and recall for each class\n",
    "        print(f\"The accuracy of model {type(model).__name__} is {accuracy:.2f}\")\n",
    "        print('mean squared error is : ',rnd_MSE)\n",
    "        print(clf_report)\n",
    "        print(\"\\n\")"
   ]
  },
  {
   "cell_type": "code",
   "execution_count": null,
   "id": "close-coral",
   "metadata": {},
   "outputs": [],
   "source": []
  },
  {
   "cell_type": "markdown",
   "id": "express-today",
   "metadata": {},
   "source": [
    "## 유방암 여부 분류"
   ]
  },
  {
   "cell_type": "code",
   "execution_count": null,
   "id": "visible-dylan",
   "metadata": {},
   "outputs": [],
   "source": [
    "print(bc_df.shape)"
   ]
  },
  {
   "cell_type": "code",
   "execution_count": 56,
   "id": "allied-magic",
   "metadata": {},
   "outputs": [],
   "source": [
    "X, y = data = load_breast_cancer(return_X_y=True)"
   ]
  },
  {
   "cell_type": "code",
   "execution_count": 58,
   "id": "turned-speaking",
   "metadata": {},
   "outputs": [],
   "source": [
    "X_train, X_test, y_train, y_test = train_test_split(X, y, test_size=0.25, random_state= 111)"
   ]
  },
  {
   "cell_type": "code",
   "execution_count": 68,
   "id": "regular-albania",
   "metadata": {},
   "outputs": [
    {
     "name": "stdout",
     "output_type": "stream",
     "text": [
      "The accuracy of model DecisionTreeClassifier is 0.94\n",
      "              precision    recall  f1-score   support\n",
      "\n",
      "           0       0.93      0.91      0.92        57\n",
      "           1       0.94      0.95      0.95        86\n",
      "\n",
      "    accuracy                           0.94       143\n",
      "   macro avg       0.94      0.93      0.93       143\n",
      "weighted avg       0.94      0.94      0.94       143\n",
      "\n",
      "\n",
      "\n",
      "The accuracy of model RandomForestClassifier is 0.98\n",
      "              precision    recall  f1-score   support\n",
      "\n",
      "           0       0.95      1.00      0.97        57\n",
      "           1       1.00      0.97      0.98        86\n",
      "\n",
      "    accuracy                           0.98       143\n",
      "   macro avg       0.97      0.98      0.98       143\n",
      "weighted avg       0.98      0.98      0.98       143\n",
      "\n",
      "\n",
      "\n",
      "The accuracy of model SVC is 0.91\n",
      "              precision    recall  f1-score   support\n",
      "\n",
      "           0       0.92      0.84      0.88        57\n",
      "           1       0.90      0.95      0.93        86\n",
      "\n",
      "    accuracy                           0.91       143\n",
      "   macro avg       0.91      0.90      0.90       143\n",
      "weighted avg       0.91      0.91      0.91       143\n",
      "\n",
      "\n",
      "\n",
      "The accuracy of model SGDClassifier is 0.83\n",
      "              precision    recall  f1-score   support\n",
      "\n",
      "           0       0.71      0.98      0.82        57\n",
      "           1       0.98      0.73      0.84        86\n",
      "\n",
      "    accuracy                           0.83       143\n",
      "   macro avg       0.85      0.86      0.83       143\n",
      "weighted avg       0.87      0.83      0.83       143\n",
      "\n",
      "\n",
      "\n",
      "The accuracy of model LogisticRegression is 0.95\n",
      "              precision    recall  f1-score   support\n",
      "\n",
      "           0       0.96      0.91      0.94        57\n",
      "           1       0.94      0.98      0.96        86\n",
      "\n",
      "    accuracy                           0.95       143\n",
      "   macro avg       0.95      0.94      0.95       143\n",
      "weighted avg       0.95      0.95      0.95       143\n",
      "\n",
      "\n",
      "\n"
     ]
    },
    {
     "name": "stderr",
     "output_type": "stream",
     "text": [
      "/opt/conda/lib/python3.7/site-packages/sklearn/linear_model/_logistic.py:762: ConvergenceWarning: lbfgs failed to converge (status=1):\n",
      "STOP: TOTAL NO. of ITERATIONS REACHED LIMIT.\n",
      "\n",
      "Increase the number of iterations (max_iter) or scale the data as shown in:\n",
      "    https://scikit-learn.org/stable/modules/preprocessing.html\n",
      "Please also refer to the documentation for alternative solver options:\n",
      "    https://scikit-learn.org/stable/modules/linear_model.html#logistic-regression\n",
      "  extra_warning_msg=_LOGISTIC_SOLVER_CONVERGENCE_MSG)\n"
     ]
    }
   ],
   "source": [
    "# first, initialize the classificators\n",
    "dt= DecisionTreeClassifier(random_state=24) # using the random state for reproducibility\n",
    "rf= RandomForestClassifier(random_state=24)\n",
    "svm = svm.SVC()\n",
    "sgd = SGDClassifier(random_state=25)\n",
    "lr = LogisticRegression()\n",
    "\n",
    "# now, create a list with the objects \n",
    "models= [dt, rf, svm, sgd, lr]\n",
    "\n",
    "for model in models:\n",
    "    model.fit(X_train, y_train) # fit the model\n",
    "    y_pred= model.predict(X_test) # then predict on the test set\n",
    "    accuracy= accuracy_score(y_test, y_pred) # this gives us how often the algorithm predicted correctly\n",
    "    rnd_MSE = mean_squared_error(y_test,y_predict)\n",
    "\n",
    "    clf_report= classification_report(y_test, y_pred) # with the report, we have a bigger picture, with precision and recall for each class\n",
    "    print(f\"The accuracy of model {type(model).__name__} is {accuracy:.2f}\")\n",
    "    print(clf_report)\n",
    "    print(\"\\n\")"
   ]
  },
  {
   "cell_type": "code",
   "execution_count": null,
   "id": "engaging-phenomenon",
   "metadata": {},
   "outputs": [],
   "source": [
    "plt.style.use('seaborn')\n",
    "\n",
    "\n",
    "# predict probabilities\n",
    "pred_prob1 = dt.predict_proba(digits.X_test)\n",
    "pred_prob2 = rf.predict_proba(digits.X_test)\n",
    "pred_prob3 = svm.predict_proba(digits.X_test)\n",
    "pred_prob4 = sgd.predict_proba(digits.X_test)\n",
    "pred_prob5 = lr.predict_proba(digits.X_test)\n",
    "\n",
    "\n",
    "# roc curve for models\n",
    "fpr1, tpr1, thresh1 = roc_curve(digits.y_test, pred_prob1[:,1], pos_label=1)\n",
    "fpr2, tpr2, thresh2 = roc_curve(digits.y_test, pred_prob2[:,1], pos_label=1)\n",
    "fpr3, tpr3, thresh3 = roc_curve(digits.y_test, pred_prob3[:,1], pos_label=1)\n",
    "fpr4, tpr4, thresh4 = roc_curve(digits.y_test, pred_prob4[:,1], pos_label=1)\n",
    "fpr5, tpr5, thresh5 = roc_curve(digits.y_test, pred_prob5[:,1], pos_label=1)\n",
    "\n",
    "# roc curve for tpr = fpr \n",
    "random_probs = [0 for i in range(len(digits.y_test))]\n",
    "p_fpr, p_tpr, _ = roc_curve(digits.y_test, random_probs, pos_label=1)\n",
    "\n",
    "# plot roc curves\n",
    "plt.plot(fpr1, tpr1, linestyle='--',color='orange', label='Decision Tree')\n",
    "plt.plot(fpr2, tpr2, linestyle='--',color='green', label='Random Forest')\n",
    "plt.plot(fpr3, tpr2, linestyle='--',color='red', label='SVM')\n",
    "plt.plot(fpr4, tpr2, linestyle='--',color='yellow', label='SGD')\n",
    "plt.plot(fpr5, tpr2, linestyle='--',color='black', label='Logistic Regrssion')\n",
    "\n",
    "plt.plot(p_fpr, p_tpr, linestyle='--', color='blue')\n",
    "# title\n",
    "plt.title('ROC curve')\n",
    "# x label\n",
    "plt.xlabel('False Positive Rate')\n",
    "# y label\n",
    "plt.ylabel('True Positive rate')\n",
    "\n",
    "plt.legend(loc='best')\n",
    "plt.savefig('ROC',dpi=300)\n",
    "plt.show();"
   ]
  }
 ],
 "metadata": {
  "kernelspec": {
   "display_name": "Python 3",
   "language": "python",
   "name": "python3"
  },
  "language_info": {
   "codemirror_mode": {
    "name": "ipython",
    "version": 3
   },
   "file_extension": ".py",
   "mimetype": "text/x-python",
   "name": "python",
   "nbconvert_exporter": "python",
   "pygments_lexer": "ipython3",
   "version": "3.7.9"
  }
 },
 "nbformat": 4,
 "nbformat_minor": 5
}
