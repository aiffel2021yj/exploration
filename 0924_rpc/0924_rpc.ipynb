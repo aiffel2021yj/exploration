{
 "cells": [
  {
   "cell_type": "code",
   "execution_count": 1,
   "id": "oriental-temple",
   "metadata": {},
   "outputs": [],
   "source": [
    "import numpy as np\n",
    "\n",
    "from sklearn.model_selection import train_test_split\n",
    "import matplotlib.pyplot as plt\n",
    "%matplotlib inline\n",
    "\n",
    "from PIL import Image\n",
    "import os, glob"
   ]
  },
  {
   "cell_type": "markdown",
   "id": "worse-cooperative",
   "metadata": {},
   "source": [
    "### I. 데이터 준비"
   ]
  },
  {
   "cell_type": "markdown",
   "id": "spoken-fifteen",
   "metadata": {},
   "source": [
    "* 이미지 사이즈 (28*28)로 변경"
   ]
  },
  {
   "cell_type": "code",
   "execution_count": 2,
   "id": "aboriginal-organization",
   "metadata": {},
   "outputs": [
    {
     "name": "stdout",
     "output_type": "stream",
     "text": [
      "500  images to be resized.\n",
      "500  images resized.\n",
      "가위 이미지 resize 완료!\n",
      "500  images to be resized.\n",
      "500  images resized.\n",
      "바위 이미지 resize 완료!\n",
      "500  images to be resized.\n",
      "500  images resized.\n",
      "보 이미지 resize 완료!\n"
     ]
    }
   ],
   "source": [
    "def resize_images(img_path):\n",
    "\timages=glob.glob(img_path + \"/*.jpg\")  \n",
    "    \n",
    "\tprint(len(images), \" images to be resized.\")\n",
    "\n",
    "    # 파일마다 모두 28x28 사이즈로 바꾸어 저장합니다.\n",
    "\ttarget_size=(28,28)\n",
    "\tfor img in images:\n",
    "\t\told_img=Image.open(img)\n",
    "\t\tnew_img=old_img.resize(target_size,Image.ANTIALIAS)\n",
    "\t\tnew_img.save(img, \"JPEG\")\n",
    "    \n",
    "\tprint(len(images), \" images resized.\")\n",
    "\t\n",
    "# 가위 이미지가 저장된 디렉토리 아래의 모든 jpg 파일을 읽어들여서\n",
    "image_dir_path = os.getenv(\"HOME\") + \"/aiffel/exploration/0924_rpc/scissors\"\n",
    "resize_images(image_dir_path)\n",
    "\n",
    "print(\"가위 이미지 resize 완료!\")\n",
    "\n",
    "\n",
    "# 바위 이미지가 저장된 디렉토리 아래의 모든 jpg 파일을 읽어들여서\n",
    "image_dir_path = os.getenv(\"HOME\") + \"/aiffel/exploration/0924_rpc/rock\"\n",
    "resize_images(image_dir_path)\n",
    "\n",
    "print(\"바위 이미지 resize 완료!\")\n",
    "\n",
    "# 보 이미지가 저장된 디렉토리 아래의 모든 jpg 파일을 읽어들여서\n",
    "image_dir_path = os.getenv(\"HOME\") + \"/aiffel/exploration/0924_rpc/paper\"\n",
    "resize_images(image_dir_path)\n",
    "\n",
    "print(\"보 이미지 resize 완료!\")"
   ]
  },
  {
   "cell_type": "markdown",
   "id": "received-recommendation",
   "metadata": {},
   "source": [
    "#### 1) 데이터 읽기\n",
    "* load_data()함수는 입력으로 이미지가 있는 폴더위치 (예: 0923_rpc)를 받는다\n",
    "* 가위바위보의 경우 3개의 클래스 즉, 가위: 0, 바위:1, 보:2 로 라벨\n",
    "* 정규화 (0,1) "
   ]
  },
  {
   "cell_type": "code",
   "execution_count": 3,
   "id": "nuclear-palestine",
   "metadata": {},
   "outputs": [
    {
     "name": "stdout",
     "output_type": "stream",
     "text": [
      "이미지 개수는 1500 입니다.\n"
     ]
    }
   ],
   "source": [
    "def load_data(img_path, number_of_data=1500):  # 가위바위보 이미지 개수 총합에 주의하세요.\n",
    "    # 가위 : 0, 바위 : 1, 보 : 2\n",
    "    img_size=28\n",
    "    color=3\n",
    "    #이미지 데이터와 라벨(가위 : 0, 바위 : 1, 보 : 2) 데이터를 담을 행렬(matrix) 영역을 생성합니다.\n",
    "    imgs=np.zeros(number_of_data*img_size*img_size*color,dtype=np.int32).reshape(number_of_data,img_size,img_size,color)\n",
    "    labels=np.zeros(number_of_data,dtype=np.int32)\n",
    "\n",
    "    idx=0\n",
    "    for file in glob.iglob(img_path+'/scissors/*.jpg'):\n",
    "        img = np.array(Image.open(file),dtype=np.int32)\n",
    "        imgs[idx,:,:,:]=img    # 데이터 영역에 이미지 행렬을 복사\n",
    "        labels[idx]=0   # 가위 : 0\n",
    "        idx=idx+1\n",
    "\n",
    "    for file in glob.iglob(img_path+'/rock/*.jpg'):\n",
    "        img = np.array(Image.open(file),dtype=np.int32)\n",
    "        imgs[idx,:,:,:]=img    # 데이터 영역에 이미지 행렬을 복사\n",
    "        labels[idx]=1   # 바위 : 1\n",
    "        idx=idx+1  \n",
    "    \n",
    "    for file in glob.iglob(img_path+'/paper/*.jpg'):\n",
    "        img = np.array(Image.open(file),dtype=np.int32)\n",
    "        imgs[idx,:,:,:]=img    # 데이터 영역에 이미지 행렬을 복사\n",
    "        labels[idx]=2   # 보 : 2\n",
    "        idx=idx+1\n",
    "        \n",
    "    print(\"이미지 개수는\", idx,\"입니다.\")\n",
    "    return imgs, labels\n",
    "\n",
    "image_dir_path = os.getenv(\"HOME\") + \"/aiffel/exploration/0924_rpc\"\n",
    "(x, y)=load_data(image_dir_path)\n",
    "\n",
    "x_norm = x/255.0   # 입력은 0~1 사이의 값으로 정규화"
   ]
  },
  {
   "cell_type": "markdown",
   "id": "separate-addition",
   "metadata": {},
   "source": [
    "#### 2) train, validation, test split"
   ]
  },
  {
   "cell_type": "code",
   "execution_count": 4,
   "id": "positive-carpet",
   "metadata": {},
   "outputs": [
    {
     "name": "stdout",
     "output_type": "stream",
     "text": [
      "(1125, 28, 28, 3) (225, 28, 28, 3) (150, 28, 28, 3)\n"
     ]
    }
   ],
   "source": [
    "train_ratio = 0.75\n",
    "validation_ratio = 0.15\n",
    "test_ratio = 0.10\n",
    "\n",
    "# train is now 75% of the entire data set\n",
    "# the _junk suffix means that we drop that variable completely\n",
    "x_train, x_test, y_train, y_test = train_test_split(x_norm, y, test_size=1 - train_ratio)\n",
    "\n",
    "# test is now 10% of the initial data set\n",
    "# validation is now 15% of the initial data set\n",
    "x_val, x_test, y_val, y_test = train_test_split(x_test, y_test, test_size=test_ratio/(test_ratio + validation_ratio)) \n",
    "\n",
    "print(x_train.shape, x_val.shape, x_test.shape)"
   ]
  },
  {
   "cell_type": "code",
   "execution_count": 5,
   "id": "scheduled-burlington",
   "metadata": {},
   "outputs": [
    {
     "name": "stdout",
     "output_type": "stream",
     "text": [
      "라벨:  2\n"
     ]
    },
    {
     "data": {
      "image/png": "[encoded data removed]",
      "text/plain": [
       "<Figure size 432x288 with 1 Axes>"
      ]
     },
     "metadata": {
      "needs_background": "light"
     },
     "output_type": "display_data"
    }
   ],
   "source": [
    "import matplotlib.pyplot as plt\n",
    "plt.imshow(x_train[0])\n",
    "\n",
    "print('라벨: ', y_train[0])"
   ]
  },
  {
   "cell_type": "markdown",
   "id": "conditional-kingdom",
   "metadata": {},
   "source": [
    "### II. Model Building"
   ]
  },
  {
   "cell_type": "code",
   "execution_count": 6,
   "id": "underlying-reproduction",
   "metadata": {},
   "outputs": [
    {
     "name": "stdout",
     "output_type": "stream",
     "text": [
      "Model: \"sequential\"\n",
      "_________________________________________________________________\n",
      "Layer (type)                 Output Shape              Param #   \n",
      "=================================================================\n",
      "conv2d (Conv2D)              (None, 26, 26, 16)        448       \n",
      "_________________________________________________________________\n",
      "max_pooling2d (MaxPooling2D) (None, 13, 13, 16)        0         \n",
      "_________________________________________________________________\n",
      "conv2d_1 (Conv2D)            (None, 11, 11, 32)        4640      \n",
      "_________________________________________________________________\n",
      "max_pooling2d_1 (MaxPooling2 (None, 5, 5, 32)          0         \n",
      "_________________________________________________________________\n",
      "flatten (Flatten)            (None, 800)               0         \n",
      "_________________________________________________________________\n",
      "dense (Dense)                (None, 32)                25632     \n",
      "_________________________________________________________________\n",
      "dense_1 (Dense)              (None, 3)                 99        \n",
      "=================================================================\n",
      "Total params: 30,819\n",
      "Trainable params: 30,819\n",
      "Non-trainable params: 0\n",
      "_________________________________________________________________\n"
     ]
    }
   ],
   "source": [
    "import tensorflow as tf\n",
    "from tensorflow import keras\n",
    "\n",
    "model = keras.models.Sequential()\n",
    "model.add(keras.layers.Conv2D(16, (3, 3), activation='relu', input_shape=(28, 28, 3)))   # 데이터 크기에 맞게 입력\n",
    "model.add(keras.layers.MaxPool2D(2, 2))\n",
    "model.add(keras.layers.Conv2D(32, (3, 3), activation='relu'))\n",
    "model.add(keras.layers.MaxPooling2D(2, 2))\n",
    "model.add(keras.layers.Flatten())\n",
    "model.add(keras.layers.Dense(32, activation='relu'))\n",
    "model.add(keras.layers.Dense(3, activation='softmax'))   \n",
    "\n",
    "model.summary()"
   ]
  },
  {
   "cell_type": "markdown",
   "id": "adolescent-finger",
   "metadata": {},
   "source": [
    "### III. Training"
   ]
  },
  {
   "cell_type": "code",
   "execution_count": 7,
   "id": "derived-journey",
   "metadata": {},
   "outputs": [
    {
     "name": "stdout",
     "output_type": "stream",
     "text": [
      "Epoch 1/10\n",
      "113/113 [==============================] - 7s 27ms/step - loss: 1.0417 - accuracy: 0.4408 - val_loss: 0.6670 - val_accuracy: 0.7600\n",
      "Epoch 2/10\n",
      "113/113 [==============================] - 0s 3ms/step - loss: 0.5931 - accuracy: 0.7711 - val_loss: 0.3228 - val_accuracy: 0.8889\n",
      "Epoch 3/10\n",
      "113/113 [==============================] - 0s 3ms/step - loss: 0.3082 - accuracy: 0.8968 - val_loss: 0.2057 - val_accuracy: 0.9511\n",
      "Epoch 4/10\n",
      "113/113 [==============================] - 0s 4ms/step - loss: 0.1855 - accuracy: 0.9618 - val_loss: 0.1629 - val_accuracy: 0.9556\n",
      "Epoch 5/10\n",
      "113/113 [==============================] - 0s 3ms/step - loss: 0.1214 - accuracy: 0.9646 - val_loss: 0.0832 - val_accuracy: 0.9778\n",
      "Epoch 6/10\n",
      "113/113 [==============================] - 0s 3ms/step - loss: 0.0702 - accuracy: 0.9885 - val_loss: 0.0696 - val_accuracy: 0.9733\n",
      "Epoch 7/10\n",
      "113/113 [==============================] - 0s 3ms/step - loss: 0.0530 - accuracy: 0.9942 - val_loss: 0.0746 - val_accuracy: 0.9778\n",
      "Epoch 8/10\n",
      "113/113 [==============================] - 0s 4ms/step - loss: 0.0341 - accuracy: 0.9998 - val_loss: 0.0578 - val_accuracy: 0.9822\n",
      "Epoch 9/10\n",
      "113/113 [==============================] - 0s 3ms/step - loss: 0.0456 - accuracy: 0.9886 - val_loss: 0.0534 - val_accuracy: 0.9822\n",
      "Epoch 10/10\n",
      "113/113 [==============================] - 0s 3ms/step - loss: 0.0278 - accuracy: 0.9956 - val_loss: 0.0467 - val_accuracy: 0.9867\n"
     ]
    }
   ],
   "source": [
    "model.compile(optimizer='adam', loss='sparse_categorical_crossentropy', metrics=['accuracy'])\n",
    "result = model.fit(x_train, y_train, epochs=10, batch_size=10, validation_data=(x_val,  y_val))"
   ]
  },
  {
   "cell_type": "code",
   "execution_count": 8,
   "id": "studied-grove",
   "metadata": {},
   "outputs": [
    {
     "data": {
      "text/plain": [
       "<matplotlib.legend.Legend at 0x7f7411298b50>"
      ]
     },
     "execution_count": 8,
     "metadata": {},
     "output_type": "execute_result"
    },
    {
     "data": {
      "image/png": "[encoded data removed]",
      "text/plain": [
       "<Figure size 756x468 with 1 Axes>"
      ]
     },
     "metadata": {
      "needs_background": "light"
     },
     "output_type": "display_data"
    }
   ],
   "source": [
    "plt.figure(figsize=(10.5, 6.5))\n",
    "\n",
    "plt.plot(result.history['accuracy'])\n",
    "plt.plot(result.history['val_accuracy'])\n",
    "plt.plot(result.history['loss'])\n",
    "plt.plot(result.history['val_loss'])\n",
    "\n",
    "plt.title('Model Performance')\n",
    "plt.xlabel('Epochs')\n",
    "plt.ylabel('Accuracy & Loss')\n",
    "plt.legend(['train_acc', 'val_acc', 'train_loss', 'val_loss'], loc='center right')"
   ]
  },
  {
   "cell_type": "markdown",
   "id": "another-compilation",
   "metadata": {},
   "source": [
    "### IV.Test"
   ]
  },
  {
   "cell_type": "code",
   "execution_count": 9,
   "id": "israeli-point",
   "metadata": {},
   "outputs": [
    {
     "name": "stdout",
     "output_type": "stream",
     "text": [
      "5/5 [==============================] - 2s 251ms/step - loss: 0.0252 - accuracy: 0.9933\n",
      "test_loss: 0.02520982176065445 \n",
      "test_accuracy: 0.9933333396911621\n"
     ]
    }
   ],
   "source": [
    "test_loss, test_accuracy = model.evaluate(x_test, y_test)\n",
    "print(\"test_loss: {} \".format(test_loss))\n",
    "print(\"test_accuracy: {}\".format(test_accuracy))"
   ]
  },
  {
   "cell_type": "code",
   "execution_count": 10,
   "id": "guilty-indication",
   "metadata": {},
   "outputs": [
    {
     "name": "stdout",
     "output_type": "stream",
     "text": [
      "36/36 [==============================] - 0s 2ms/step - loss: 0.0147 - accuracy: 0.9982\n",
      "8/8 [==============================] - 1s 152ms/step - loss: 0.0467 - accuracy: 0.9867\n"
     ]
    }
   ],
   "source": [
    "train_loss, train_accuracy = model.evaluate(x_train, y_train)\n",
    "val_loss, val_accuracy = model.evaluate(x_val, y_val)"
   ]
  },
  {
   "cell_type": "code",
   "execution_count": 11,
   "id": "junior-selling",
   "metadata": {},
   "outputs": [
    {
     "name": "stdout",
     "output_type": "stream",
     "text": [
      "train_accuracy: 0.9982222318649292\n",
      "val_accuracy: 0.9866666793823242\n",
      "test_accuracy: 0.9933333396911621\n"
     ]
    }
   ],
   "source": [
    "print(\"train_accuracy: {}\".format(train_accuracy))\n",
    "print(\"val_accuracy: {}\".format(val_accuracy))\n",
    "print(\"test_accuracy: {}\".format(test_accuracy))"
   ]
  },
  {
   "cell_type": "markdown",
   "id": "focal-lightweight",
   "metadata": {},
   "source": [
    "#### 회고\n",
    "\n",
    "* 데이터가 비슷비슷해서인지 오버피팅의 문제인지 그 외 다른 것의 문제인지 잘 모르겠지만 어디선가 잘못된 점이 있는 것 같다. \n",
    "* 이전에 내 손 데이터만 사용했을 때와 optimization behavior 차이가 분명하다: train accuracy가 epoch 2만에 0.60에서 0.98, validation set의 accuracy도 0.9에서 1이 나왔다. \n",
    "* 하지만 여기서도 test accuracy가\n",
    "* 시간이 날 때 다시 차근차근 개념을 이해하고 다시 연습해보아야겠다. "
   ]
  }
 ],
 "metadata": {
  "kernelspec": {
   "display_name": "Python 3",
   "language": "python",
   "name": "python3"
  },
  "language_info": {
   "codemirror_mode": {
    "name": "ipython",
    "version": 3
   },
   "file_extension": ".py",
   "mimetype": "text/x-python",
   "name": "python",
   "nbconvert_exporter": "python",
   "pygments_lexer": "ipython3",
   "version": "3.7.9"
  }
 },
 "nbformat": 4,
 "nbformat_minor": 5
}
