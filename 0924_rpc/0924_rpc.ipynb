{
 "cells": [
  {
   "cell_type": "code",
   "execution_count": 1,
   "id": "third-enlargement",
   "metadata": {},
   "outputs": [],
   "source": [
    "import numpy as np\n",
    "\n",
    "from sklearn.model_selection import train_test_split\n",
    "import matplotlib.pyplot as plt\n",
    "%matplotlib inline\n",
    "\n",
    "from PIL import Image\n",
    "import os, glob"
   ]
  },
  {
   "cell_type": "markdown",
   "id": "welcome-colleague",
   "metadata": {},
   "source": [
    "### I. 데이터 준비"
   ]
  },
  {
   "cell_type": "markdown",
   "id": "historical-conclusion",
   "metadata": {},
   "source": [
    "* 이미지 사이즈 (28*28)로 변경"
   ]
  },
  {
   "cell_type": "code",
   "execution_count": 2,
   "id": "global-douglas",
   "metadata": {},
   "outputs": [
    {
     "name": "stdout",
     "output_type": "stream",
     "text": [
      "500  images to be resized.\n",
      "500  images resized.\n",
      "가위 이미지 resize 완료!\n",
      "500  images to be resized.\n",
      "500  images resized.\n",
      "바위 이미지 resize 완료!\n",
      "500  images to be resized.\n",
      "500  images resized.\n",
      "보 이미지 resize 완료!\n"
     ]
    }
   ],
   "source": [
    "def resize_images(img_path):\n",
    "\timages=glob.glob(img_path + \"/*.jpg\")  \n",
    "    \n",
    "\tprint(len(images), \" images to be resized.\")\n",
    "\n",
    "    # 파일마다 모두 28x28 사이즈로 바꾸어 저장합니다.\n",
    "\ttarget_size=(28,28)\n",
    "\tfor img in images:\n",
    "\t\told_img=Image.open(img)\n",
    "\t\tnew_img=old_img.resize(target_size,Image.ANTIALIAS)\n",
    "\t\tnew_img.save(img, \"JPEG\")\n",
    "    \n",
    "\tprint(len(images), \" images resized.\")\n",
    "\t\n",
    "# 가위 이미지가 저장된 디렉토리 아래의 모든 jpg 파일을 읽어들여서\n",
    "image_dir_path = os.getenv(\"HOME\") + \"/aiffel/exploration/0924_rpc/scissors\"\n",
    "resize_images(image_dir_path)\n",
    "\n",
    "print(\"가위 이미지 resize 완료!\")\n",
    "\n",
    "\n",
    "# 바위 이미지가 저장된 디렉토리 아래의 모든 jpg 파일을 읽어들여서\n",
    "image_dir_path = os.getenv(\"HOME\") + \"/aiffel/exploration/0924_rpc/rock\"\n",
    "resize_images(image_dir_path)\n",
    "\n",
    "print(\"바위 이미지 resize 완료!\")\n",
    "\n",
    "# 보 이미지가 저장된 디렉토리 아래의 모든 jpg 파일을 읽어들여서\n",
    "image_dir_path = os.getenv(\"HOME\") + \"/aiffel/exploration/0924_rpc/paper\"\n",
    "resize_images(image_dir_path)\n",
    "\n",
    "print(\"보 이미지 resize 완료!\")"
   ]
  },
  {
   "cell_type": "markdown",
   "id": "floating-mother",
   "metadata": {},
   "source": [
    "#### 1) 데이터 읽기\n",
    "* load_data()함수는 입력으로 이미지가 있는 폴더위치 (예: 0923_rpc)를 받는다\n",
    "* 가위바위보의 경우 3개의 클래스 즉, 가위: 0, 바위:1, 보:2 로 라벨\n",
    "* 정규화 (0,1) "
   ]
  },
  {
   "cell_type": "code",
   "execution_count": 3,
   "id": "round-danish",
   "metadata": {},
   "outputs": [
    {
     "name": "stdout",
     "output_type": "stream",
     "text": [
      "이미지 개수는 1500 입니다.\n"
     ]
    }
   ],
   "source": [
    "def load_data(img_path, number_of_data=1500):  # 가위바위보 이미지 개수 총합에 주의하세요.\n",
    "    # 가위 : 0, 바위 : 1, 보 : 2\n",
    "    img_size=28\n",
    "    color=3\n",
    "    #이미지 데이터와 라벨(가위 : 0, 바위 : 1, 보 : 2) 데이터를 담을 행렬(matrix) 영역을 생성합니다.\n",
    "    imgs=np.zeros(number_of_data*img_size*img_size*color,dtype=np.int32).reshape(number_of_data,img_size,img_size,color)\n",
    "    labels=np.zeros(number_of_data,dtype=np.int32)\n",
    "\n",
    "    idx=0\n",
    "    for file in glob.iglob(img_path+'/scissors/*.jpg'):\n",
    "        img = np.array(Image.open(file),dtype=np.int32)\n",
    "        imgs[idx,:,:,:]=img    # 데이터 영역에 이미지 행렬을 복사\n",
    "        labels[idx]=0   # 가위 : 0\n",
    "        idx=idx+1\n",
    "\n",
    "    for file in glob.iglob(img_path+'/rock/*.jpg'):\n",
    "        img = np.array(Image.open(file),dtype=np.int32)\n",
    "        imgs[idx,:,:,:]=img    # 데이터 영역에 이미지 행렬을 복사\n",
    "        labels[idx]=1   # 바위 : 1\n",
    "        idx=idx+1  \n",
    "    \n",
    "    for file in glob.iglob(img_path+'/paper/*.jpg'):\n",
    "        img = np.array(Image.open(file),dtype=np.int32)\n",
    "        imgs[idx,:,:,:]=img    # 데이터 영역에 이미지 행렬을 복사\n",
    "        labels[idx]=2   # 보 : 2\n",
    "        idx=idx+1\n",
    "        \n",
    "    print(\"이미지 개수는\", idx,\"입니다.\")\n",
    "    return imgs, labels\n",
    "\n",
    "image_dir_path = os.getenv(\"HOME\") + \"/aiffel/exploration/0924_rpc\"\n",
    "(x, y)=load_data(image_dir_path)\n",
    "\n",
    "x_norm = x/255.0   # 입력은 0~1 사이의 값으로 정규화"
   ]
  },
  {
   "cell_type": "markdown",
   "id": "announced-pacific",
   "metadata": {},
   "source": [
    "#### 2) train, validation, test split"
   ]
  },
  {
   "cell_type": "code",
   "execution_count": 4,
   "id": "welsh-hopkins",
   "metadata": {},
   "outputs": [
    {
     "name": "stdout",
     "output_type": "stream",
     "text": [
      "(1125, 28, 28, 3) (225, 28, 28, 3) (150, 28, 28, 3)\n"
     ]
    }
   ],
   "source": [
    "train_ratio = 0.75\n",
    "validation_ratio = 0.15\n",
    "test_ratio = 0.10\n",
    "\n",
    "# train is now 75% of the entire data set\n",
    "# the _junk suffix means that we drop that variable completely\n",
    "x_train, x_test, y_train, y_test = train_test_split(x_norm, y, test_size=1 - train_ratio, random_state=13)\n",
    "\n",
    "# test is now 10% of the initial data set\n",
    "# validation is now 15% of the initial data set\n",
    "x_val, x_test, y_val, y_test = train_test_split(x_test, y_test, test_size=test_ratio/(test_ratio + validation_ratio)) \n",
    "\n",
    "print(x_train.shape, x_val.shape, x_test.shape)"
   ]
  },
  {
   "cell_type": "code",
   "execution_count": 5,
   "id": "better-stocks",
   "metadata": {},
   "outputs": [
    {
     "name": "stdout",
     "output_type": "stream",
     "text": [
      "라벨:  1\n"
     ]
    },
    {
     "data": {
      "image/png": "[encoded data removed]",
      "text/plain": [
       "<Figure size 432x288 with 1 Axes>"
      ]
     },
     "metadata": {
      "needs_background": "light"
     },
     "output_type": "display_data"
    }
   ],
   "source": [
    "import matplotlib.pyplot as plt\n",
    "plt.imshow(x_train[0])\n",
    "\n",
    "print('라벨: ', y_train[0])"
   ]
  },
  {
   "cell_type": "markdown",
   "id": "extended-parade",
   "metadata": {},
   "source": [
    "### II. Model Building"
   ]
  },
  {
   "cell_type": "code",
   "execution_count": 6,
   "id": "historic-california",
   "metadata": {},
   "outputs": [
    {
     "name": "stdout",
     "output_type": "stream",
     "text": [
      "Model: \"sequential\"\n",
      "_________________________________________________________________\n",
      "Layer (type)                 Output Shape              Param #   \n",
      "=================================================================\n",
      "conv2d (Conv2D)              (None, 26, 26, 16)        448       \n",
      "_________________________________________________________________\n",
      "max_pooling2d (MaxPooling2D) (None, 13, 13, 16)        0         \n",
      "_________________________________________________________________\n",
      "conv2d_1 (Conv2D)            (None, 11, 11, 32)        4640      \n",
      "_________________________________________________________________\n",
      "max_pooling2d_1 (MaxPooling2 (None, 5, 5, 32)          0         \n",
      "_________________________________________________________________\n",
      "flatten (Flatten)            (None, 800)               0         \n",
      "_________________________________________________________________\n",
      "dense (Dense)                (None, 32)                25632     \n",
      "_________________________________________________________________\n",
      "dense_1 (Dense)              (None, 3)                 99        \n",
      "=================================================================\n",
      "Total params: 30,819\n",
      "Trainable params: 30,819\n",
      "Non-trainable params: 0\n",
      "_________________________________________________________________\n"
     ]
    }
   ],
   "source": [
    "import tensorflow as tf\n",
    "from tensorflow import keras\n",
    "\n",
    "model = keras.models.Sequential()\n",
    "model.add(keras.layers.Conv2D(16, (3, 3), activation='relu', input_shape=(28, 28, 3)))   # 데이터 크기에 맞게 입력\n",
    "model.add(keras.layers.MaxPool2D(2, 2))\n",
    "model.add(keras.layers.Conv2D(32, (3, 3), activation='relu'))\n",
    "model.add(keras.layers.MaxPooling2D(2, 2))\n",
    "model.add(keras.layers.Flatten())\n",
    "model.add(keras.layers.Dense(32, activation='relu'))\n",
    "model.add(keras.layers.Dense(3, activation='softmax'))   \n",
    "\n",
    "model.summary()"
   ]
  },
  {
   "cell_type": "markdown",
   "id": "cooperative-thunder",
   "metadata": {},
   "source": [
    "### III. Training"
   ]
  },
  {
   "cell_type": "code",
   "execution_count": 7,
   "id": "vocational-mailing",
   "metadata": {},
   "outputs": [
    {
     "name": "stdout",
     "output_type": "stream",
     "text": [
      "Epoch 1/10\n",
      "113/113 [==============================] - 7s 28ms/step - loss: 1.0718 - accuracy: 0.4339 - val_loss: 0.8642 - val_accuracy: 0.5644\n",
      "Epoch 2/10\n",
      "113/113 [==============================] - 0s 3ms/step - loss: 0.7073 - accuracy: 0.7024 - val_loss: 0.3900 - val_accuracy: 0.8889\n",
      "Epoch 3/10\n",
      "113/113 [==============================] - 0s 3ms/step - loss: 0.3065 - accuracy: 0.9009 - val_loss: 0.2341 - val_accuracy: 0.9600\n",
      "Epoch 4/10\n",
      "113/113 [==============================] - 0s 3ms/step - loss: 0.2256 - accuracy: 0.9312 - val_loss: 0.1762 - val_accuracy: 0.9689\n",
      "Epoch 5/10\n",
      "113/113 [==============================] - 0s 3ms/step - loss: 0.1182 - accuracy: 0.9757 - val_loss: 0.1335 - val_accuracy: 0.9733\n",
      "Epoch 6/10\n",
      "113/113 [==============================] - 0s 3ms/step - loss: 0.1168 - accuracy: 0.9682 - val_loss: 0.1026 - val_accuracy: 0.9822\n",
      "Epoch 7/10\n",
      "113/113 [==============================] - 0s 3ms/step - loss: 0.0595 - accuracy: 0.9936 - val_loss: 0.0855 - val_accuracy: 0.9822\n",
      "Epoch 8/10\n",
      "113/113 [==============================] - 0s 3ms/step - loss: 0.0508 - accuracy: 0.9880 - val_loss: 0.1138 - val_accuracy: 0.9600\n",
      "Epoch 9/10\n",
      "113/113 [==============================] - 0s 3ms/step - loss: 0.0350 - accuracy: 0.9950 - val_loss: 0.0447 - val_accuracy: 0.9867\n",
      "Epoch 10/10\n",
      "113/113 [==============================] - 0s 3ms/step - loss: 0.0199 - accuracy: 1.0000 - val_loss: 0.0572 - val_accuracy: 0.9867\n"
     ]
    }
   ],
   "source": [
    "model.compile(optimizer='adam', loss='sparse_categorical_crossentropy', metrics=['accuracy'])\n",
    "result = model.fit(x_train, y_train, epochs=10, batch_size=10, validation_data=(x_val,  y_val))"
   ]
  },
  {
   "cell_type": "code",
   "execution_count": 8,
   "id": "moderate-brazilian",
   "metadata": {},
   "outputs": [
    {
     "data": {
      "text/plain": [
       "<matplotlib.legend.Legend at 0x7fbc4c10b9d0>"
      ]
     },
     "execution_count": 8,
     "metadata": {},
     "output_type": "execute_result"
    },
    {
     "data": {
      "image/png": "[encoded data removed]",
      "text/plain": [
       "<Figure size 756x468 with 1 Axes>"
      ]
     },
     "metadata": {
      "needs_background": "light"
     },
     "output_type": "display_data"
    }
   ],
   "source": [
    "plt.figure(figsize=(10.5, 6.5))\n",
    "\n",
    "plt.plot(result.history['accuracy'])\n",
    "plt.plot(result.history['val_accuracy'])\n",
    "plt.plot(result.history['loss'])\n",
    "plt.plot(result.history['val_loss'])\n",
    "\n",
    "plt.title('Model Performance')\n",
    "plt.xlabel('Epochs')\n",
    "plt.ylabel('Accuracy & Loss')\n",
    "plt.legend(['train_acc', 'val_acc', 'train_loss', 'val_loss'], loc='center right')"
   ]
  },
  {
   "cell_type": "markdown",
   "id": "social-worthy",
   "metadata": {},
   "source": [
    "### IV.Test"
   ]
  },
  {
   "cell_type": "code",
   "execution_count": 9,
   "id": "starting-slovenia",
   "metadata": {},
   "outputs": [
    {
     "name": "stdout",
     "output_type": "stream",
     "text": [
      "5/5 [==============================] - 2s 290ms/step - loss: 0.0240 - accuracy: 0.9933\n",
      "test_loss: 0.024005534127354622 \n",
      "test_accuracy: 0.9933333396911621\n"
     ]
    }
   ],
   "source": [
    "test_loss, test_accuracy = model.evaluate(x_test, y_test)\n",
    "print(\"test_loss: {} \".format(test_loss))\n",
    "print(\"test_accuracy: {}\".format(test_accuracy))"
   ]
  },
  {
   "cell_type": "code",
   "execution_count": 10,
   "id": "substantial-rally",
   "metadata": {},
   "outputs": [
    {
     "name": "stdout",
     "output_type": "stream",
     "text": [
      "36/36 [==============================] - 0s 2ms/step - loss: 0.0169 - accuracy: 0.9982\n",
      "8/8 [==============================] - 1s 164ms/step - loss: 0.0572 - accuracy: 0.9867\n"
     ]
    }
   ],
   "source": [
    "train_loss, train_accuracy = model.evaluate(x_train, y_train)\n",
    "val_loss, val_accuracy = model.evaluate(x_val, y_val)"
   ]
  },
  {
   "cell_type": "code",
   "execution_count": 11,
   "id": "blessed-perry",
   "metadata": {},
   "outputs": [
    {
     "name": "stdout",
     "output_type": "stream",
     "text": [
      "train_accuracy: 0.9982222318649292\n",
      "val_accuracy: 0.9866666793823242\n",
      "test_accuracy: 0.9933333396911621\n"
     ]
    }
   ],
   "source": [
    "print(\"train_accuracy: {}\".format(train_accuracy))\n",
    "print(\"val_accuracy: {}\".format(val_accuracy))\n",
    "print(\"test_accuracy: {}\".format(test_accuracy))"
   ]
  },
  {
   "cell_type": "markdown",
   "id": "collect-wilson",
   "metadata": {},
   "source": [
    "#### 회고\n",
    "\n",
    "* 이전에 내 손 데이터만 사용했을 때와, 이번에 팀원들의 데이터를 이용한 것과 모델의 optimization behavior 차이가 분명하다\n",
    "* 그 전의 데이터 수가 2배임에도 불구하고 아마 다양성이 적어서인지 train accuracy가 epoch 2만에 0.60에서 0.98, validation set의 accuracy도 0.9에서 1이 나왔다: https://github.com/aiffel2021yj/exploration/blob/main/0923_rpc/%EA%B0%80%EC%9C%84%EB%B0%94%EC%9C%84%EB%B3%B4%20%EB%B6%84%EB%A5%98.ipynb\n",
    "* 이전에 accuracy가 1이나와서 모델빌딩에 문제가 있나 걱정이 되었는데 이번 데이터셋에선 간소하게나마 test accuracy가 train accuracy보다 적어서 모델 문제는 아닌 것 같다. 확신은 서지 않는다. \n",
    "* 급하게 이해하고 넘어갔지만 시간이 날 때 다시 차근차근 개념을 이해하고 다시 연습해보아야겠다. "
   ]
  }
 ],
 "metadata": {
  "kernelspec": {
   "display_name": "Python 3",
   "language": "python",
   "name": "python3"
  },
  "language_info": {
   "codemirror_mode": {
    "name": "ipython",
    "version": 3
   },
   "file_extension": ".py",
   "mimetype": "text/x-python",
   "name": "python",
   "nbconvert_exporter": "python",
   "pygments_lexer": "ipython3",
   "version": "3.7.9"
  }
 },
 "nbformat": 4,
 "nbformat_minor": 5
}
